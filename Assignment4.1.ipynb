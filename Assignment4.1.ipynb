{
 "cells": [
  {
   "cell_type": "code",
   "execution_count": 6,
   "metadata": {},
   "outputs": [
    {
     "name": "stdout",
     "output_type": "stream",
     "text": [
      "Moving average is:  [5, 4, 5, 6, 9, 28, 49, 72, 84, 93, 116]\n"
     ]
    }
   ],
   "source": [
    "#Write a function to find moving average in an array over a window:Test it over [3, 5, 7, 2, 8, 10, 11, 65, 72, 81, 99, 100, 150] and window of 3.\n",
    "import numpy as np\n",
    "\n",
    "def movingavg(data,window):\n",
    "    result=[]\n",
    "    seq=len(data)-window+1\n",
    "    for i in range(len(data)):\n",
    "        if i<seq:\n",
    "            result.append(int(sum(data[i:i+window])/window))\n",
    "    return result\n",
    "window=3\n",
    "data=[3, 5, 7, 2, 8, 10, 11, 65, 72, 81, 99, 100, 150]\n",
    "print('Moving average is: ', movingavg(data,window))            "
   ]
  },
  {
   "cell_type": "code",
   "execution_count": null,
   "metadata": {},
   "outputs": [],
   "source": []
  },
  {
   "cell_type": "code",
   "execution_count": null,
   "metadata": {},
   "outputs": [],
   "source": []
  }
 ],
 "metadata": {
  "kernelspec": {
   "display_name": "Python 3",
   "language": "python",
   "name": "python3"
  },
  "language_info": {
   "codemirror_mode": {
    "name": "ipython",
    "version": 3
   },
   "file_extension": ".py",
   "mimetype": "text/x-python",
   "name": "python",
   "nbconvert_exporter": "python",
   "pygments_lexer": "ipython3",
   "version": "3.7.1"
  }
 },
 "nbformat": 4,
 "nbformat_minor": 2
}
