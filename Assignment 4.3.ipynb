{
 "cells": [
  {
   "cell_type": "code",
   "execution_count": 2,
   "metadata": {},
   "outputs": [
    {
     "data": {
      "text/plain": [
       "2015-01-01    0.733031\n",
       "2015-01-02    0.080422\n",
       "2015-01-05    0.109994\n",
       "2015-01-06    0.693626\n",
       "2015-01-07    0.469412\n",
       "2015-01-08    0.721243\n",
       "2015-01-09    0.740437\n",
       "2015-01-12    0.449223\n",
       "2015-01-13    0.187549\n",
       "2015-01-14    0.186023\n",
       "2015-01-15    0.484002\n",
       "2015-01-16    0.928964\n",
       "2015-01-19    0.883629\n",
       "2015-01-20    0.076847\n",
       "2015-01-21    0.258477\n",
       "2015-01-22    0.366711\n",
       "2015-01-23    0.726236\n",
       "2015-01-26    0.364851\n",
       "2015-01-27    0.994756\n",
       "2015-01-28    0.646392\n",
       "2015-01-29    0.048278\n",
       "2015-01-30    0.639819\n",
       "2015-02-02    0.242678\n",
       "2015-02-03    0.906018\n",
       "2015-02-04    0.930615\n",
       "2015-02-05    0.809776\n",
       "2015-02-06    0.371668\n",
       "2015-02-09    0.312688\n",
       "2015-02-10    0.105935\n",
       "2015-02-11    0.457896\n",
       "                ...   \n",
       "2015-11-20    0.066935\n",
       "2015-11-23    0.367209\n",
       "2015-11-24    0.497241\n",
       "2015-11-25    0.275731\n",
       "2015-11-26    0.404269\n",
       "2015-11-27    0.471079\n",
       "2015-11-30    0.215032\n",
       "2015-12-01    0.251889\n",
       "2015-12-02    0.552424\n",
       "2015-12-03    0.067908\n",
       "2015-12-04    0.229762\n",
       "2015-12-07    0.023850\n",
       "2015-12-08    0.798296\n",
       "2015-12-09    0.203442\n",
       "2015-12-10    0.437839\n",
       "2015-12-11    0.980864\n",
       "2015-12-14    0.012081\n",
       "2015-12-15    0.324892\n",
       "2015-12-16    0.884950\n",
       "2015-12-17    0.440522\n",
       "2015-12-18    0.315080\n",
       "2015-12-21    0.013486\n",
       "2015-12-22    0.355491\n",
       "2015-12-23    0.941320\n",
       "2015-12-24    0.131365\n",
       "2015-12-25    0.275917\n",
       "2015-12-28    0.016247\n",
       "2015-12-29    0.960011\n",
       "2015-12-30    0.548485\n",
       "2015-12-31    0.300692\n",
       "Freq: B, Length: 261, dtype: float64"
      ]
     },
     "execution_count": 2,
     "metadata": {},
     "output_type": "execute_result"
    }
   ],
   "source": [
    "#Create a DatetimeIndex that contains each business day of 2015 and use it to index a Series of random numbers.\n",
    "\n",
    "import numpy as np\n",
    "import pandas as pd\n",
    "\n",
    "ds = pd.date_range(start='2015-01-01', end='2015-12-31', freq='B')\n",
    "s=pd.Series(np.random.rand(len(ds)), index=ds)\n",
    "s"
   ]
  },
  {
   "cell_type": "code",
   "execution_count": 5,
   "metadata": {},
   "outputs": [
    {
     "data": {
      "text/plain": [
       "26.891629029856098"
      ]
     },
     "execution_count": 5,
     "metadata": {},
     "output_type": "execute_result"
    }
   ],
   "source": [
    "#Find the sum of the values in s for every Wednesday\n",
    "s[ds.weekday==2].sum()"
   ]
  },
  {
   "cell_type": "code",
   "execution_count": 6,
   "metadata": {},
   "outputs": [
    {
     "data": {
      "text/plain": [
       "2015-01-31    0.490451\n",
       "2015-02-28    0.477681\n",
       "2015-03-31    0.509971\n",
       "2015-04-30    0.596141\n",
       "2015-05-31    0.483542\n",
       "2015-06-30    0.558003\n",
       "2015-07-31    0.503277\n",
       "2015-08-31    0.518606\n",
       "2015-09-30    0.397477\n",
       "2015-10-31    0.500057\n",
       "2015-11-30    0.491207\n",
       "2015-12-31    0.394209\n",
       "Freq: M, dtype: float64"
      ]
     },
     "execution_count": 6,
     "metadata": {},
     "output_type": "execute_result"
    }
   ],
   "source": [
    "#Average For each calendar month\n",
    "s.resample('M').mean()"
   ]
  },
  {
   "cell_type": "code",
   "execution_count": 7,
   "metadata": {},
   "outputs": [
    {
     "data": {
      "text/plain": [
       "2015-01-31    0.994756\n",
       "2015-05-31    0.999221\n",
       "2015-09-30    0.995584\n",
       "2016-01-31    0.980864\n",
       "dtype: float64"
      ]
     },
     "execution_count": 7,
     "metadata": {},
     "output_type": "execute_result"
    }
   ],
   "source": [
    "#For each group of four consecutive calendar months in s, find the date on which the highest value occurred.\n",
    "\n",
    "s.groupby(pd.Grouper(freq='4M')).max()"
   ]
  },
  {
   "cell_type": "code",
   "execution_count": null,
   "metadata": {},
   "outputs": [],
   "source": []
  }
 ],
 "metadata": {
  "kernelspec": {
   "display_name": "Python 3",
   "language": "python",
   "name": "python3"
  },
  "language_info": {
   "codemirror_mode": {
    "name": "ipython",
    "version": 3
   },
   "file_extension": ".py",
   "mimetype": "text/x-python",
   "name": "python",
   "nbconvert_exporter": "python",
   "pygments_lexer": "ipython3",
   "version": "3.7.1"
  }
 },
 "nbformat": 4,
 "nbformat_minor": 2
}
